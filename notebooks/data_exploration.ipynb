DATA_EXPLORATION_NOTEBOOK = {
    "cells": [
        {
            "cell_type": "markdown",
            "metadata": {},
            "source": [
                "# BOQ Generator - Data Exploration\n",
                "\n",
                "This notebook explores the product data from multiple company Excel sheets to understand patterns and prepare for ML model training."
            ]
        },
        {
            "cell_type": "code",
            "execution_count": None,
            "metadata": {},
            "source": [
                "import pandas as pd\n",
                "import numpy as np\n",
                "import matplotlib.pyplot as plt\n",
                "import seaborn as sns\n",
                "import json\n",
                "from collections import Counter\n",
                "import plotly.express as px\n",
                "import plotly.graph_objects as go\n",
                "from wordcloud import WordCloud\n",
                "\n",
                "# Set style\n",
                "plt.style.use('seaborn-v0_8')\n",
                "sns.set_palette(\"husl\")"
            ]
        },
        {
            "cell_type": "markdown",
            "metadata": {},
            "source": [
                "## Load and Explore Data"
            ]
        },
        {
            "cell_type": "code",
            "execution_count": None,
            "metadata": {},
            "source": [
                "# Load processed products data\n",
                "with open('../data/processed_products.json', 'r') as f:\n",
                "    products_data = json.load(f)\n",
                "\n",
                "df = pd.DataFrame(products_data)\n",
                "print(f\"Dataset shape: {df.shape}\")\n",
                "print(f\"Columns: {df.columns.tolist()}\")\n",
                "df.head()"
            ]
        },
        {
            "cell_type": "markdown",
            "metadata": {},
            "source": [
                "## Basic Statistics"
            ]
        },
        {
            "cell_type": "code",
            "execution_count": None,
            "metadata": {},
            "source": [
                "# Basic info\n",
                "print(\"=== Dataset Info ===\")\n",
                "print(df.info())\n",
                "print(\"\\n=== Missing Values ===\")\n",
                "print(df.isnull().sum())\n",
                "print(\"\\n=== Unique Values ===\")\n",
                "for col in df.columns:\n",
                "    print(f\"{col}: {df[col].nunique()}\")"
            ]
        },
        {
            "cell_type": "markdown",
            "metadata": {},
            "source": [
                "## Company Analysis"
            ]
        },
        {
            "cell_type": "code",
            "execution_count": None,
            "metadata": {},
            "source": [
                "# Company distribution\n",
                "company_counts = df['company'].value_counts()\n",
                "print(\"Products per company:\")\n",
                "print(company_counts.head(10))\n",
                "\n",
                "# Visualization\n",
                "plt.figure(figsize=(12, 6))\n",
                "company_counts.head(15).plot(kind='bar')\n",
                "plt.title('Top 15 Companies by Product Count')\n",
                "plt.xlabel('Company')\n",
                "plt.ylabel('Number of Products')\n",
                "plt.xticks(rotation=45)\n",
                "plt.tight_layout()\n",
                "plt.show()"
            ]
        },
        {
            "cell_type": "markdown",
            "metadata": {},
            "source": [
                "## Category Analysis"
            ]
        },
        {
            "cell_type": "code",
            "execution_count": None,
            "metadata": {},
            "source": [
                "# Category distribution\n",
                "category_counts = df['category'].value_counts()\n",
                "print(\"Products per category:\")\n",
                "print(category_counts)\n",
                "\n",
                "# Pie chart\n",
                "plt.figure(figsize=(10, 8))\n",
                "plt.pie(category_counts.values, labels=category_counts.index, autopct='%1.1f%%')\n",
                "plt.title('Product Distribution by Category')\n",
                "plt.axis('equal')\n",
                "plt.show()"
            ]
        },
        {
            "cell_type": "markdown",
            "metadata": {},
            "source": [
                "## Price Analysis"
            ]
        },
        {
            "cell_type": "code",
            "execution_count": None,
            "metadata": {},
            "source": [
                "# Price statistics\n",
                "price_stats = df[df['price'] > 0]['price'].describe()\n",
                "print(\"Price statistics (excluding zero prices):\")\n",
                "print(price_stats)\n",
                "\n",
                "# Price distribution\n",
                "plt.figure(figsize=(15, 5))\n",
                "\n",
                "plt.subplot(1, 3, 1)\n",
                "df[df['price'] > 0]['price'].hist(bins=50)\n",
                "plt.title('Price Distribution')\n",
                "plt.xlabel('Price ($)')\n",
                "plt.ylabel('Frequency')\n",
                "\n",
                "plt.subplot(1, 3, 2)\n",
                "np.log10(df[df['price'] > 0]['price']).hist(bins=50)\n",
                "plt.title('Log Price Distribution')\n",
                "plt.xlabel('Log10(Price)')\n",
                "plt.ylabel('Frequency')\n",
                "\n",
                "plt.subplot(1, 3, 3)\n",
                "df.groupby('category')['price'].mean().plot(kind='bar')\n",
                "plt.title('Average Price by Category')\n",
                "plt.xlabel('Category')\n",
                "plt.ylabel('Average Price ($)')\n",
                "plt.xticks(rotation=45)\n",
                "\n",
                "plt.tight_layout()\n",
                "plt.show()"
            ]
        },
        {
            "cell_type": "markdown",
            "metadata": {},
            "source": [
                "## Text Analysis"
            ]
        },
        {
            "cell_type": "code",
            "execution_count": None,
            "metadata": {},
            "source": [
                "# Description length analysis\n",
                "df['description_length'] = df['description'].str.len()\n",
                "df['word_count'] = df['description'].str.split().str.len()\n",
                "\n",
                "print(\"Description length statistics:\")\n",
                "print(df['description_length'].describe())\n",
                "print(\"\\nWord count statistics:\")\n",
                "print(df['word_count'].describe())\n",
                "\n",
                "# Visualization\n",
                "plt.figure(figsize=(12, 4))\n",
                "\n",
                "plt.subplot(1, 2, 1)\n",
                "df['description_length'].hist(bins=50)\n",
                "plt.title('Description Length Distribution')\n",
                "plt.xlabel('Character Count')\n",
                "\n",
                "plt.subplot(1, 2, 2)\n",
                "df['word_count'].hist(bins=30)\n",
                "plt.title('Word Count Distribution')\n",
                "plt.xlabel('Word Count')\n",
                "\n",
                "plt.tight_layout()\n",
                "plt.show()"
            ]
        },
        {
            "cell_type": "markdown",
            "metadata": {},
            "source": [
                "## Word Cloud Analysis"
            ]
        },
        {
            "cell_type": "code",
            "execution_count": None,
            "metadata": {},
            "source": [
                "# Create word cloud for each category\n",
                "categories = df['category'].unique()\n",
                "\n",
                "fig, axes = plt.subplots(2, 3, figsize=(18, 12))\n",
                "axes = axes.ravel()\n",
                "\n",
                "for i, category in enumerate(categories[:6]):\n",
                "    if i < len(axes):\n",
                "        category_text = ' '.join(df[df['category'] == category]['description'].astype(str))\n",
                "        \n",
                "        if category_text.strip():\n",
                "            wordcloud = WordCloud(width=300, height=200, background_color='white').generate(category_text)\n",
                "            axes[i].imshow(wordcloud, interpolation='bilinear')\n",
                "            axes[i].set_title(f'{category.title()} Products')\n",
                "            axes[i].axis('off')\n",
                "\n",
                "plt.tight_layout()\n",
                "plt.show()"
            ]
        },
        {
            "cell_type": "markdown",
            "metadata": {},
            "source": [
                "## Compatibility Analysis"
            ]
        },
        {
            "cell_type": "code",
            "execution_count": None,
            "metadata": {},
            "source": [
                "# Flatten compatibility lists\n",
                "all_compatibility = []\n",
                "for comp_list in df['compatibility']:\n",
                "    if isinstance(comp_list, list):\n",
                "        all_compatibility.extend(comp_list)\n",
                "\n",
                "compatibility_counts = Counter(all_compatibility)\n",
                "print(\"Most common compatibility features:\")\n",
                "print(compatibility_counts.most_common(10))\n",
                "\n",
                "# Visualization\n",
                "if compatibility_counts:\n",
                "    plt.figure(figsize=(10, 6))\n",
                "    top_10 = dict(compatibility_counts.most_common(10))\n",
                "    plt.bar(top_10.keys(), top_10.values())\n",
                "    plt.title('Top 10 Compatibility Features')\n",
                "    plt.xlabel('Compatibility Feature')\n",
                "    plt.ylabel('Count')\n",
                "    plt.xticks(rotation=45)\n",
                "    plt.tight_layout()\n",
                "    plt.show()"
            ]
        },
        {
            "cell_type": "markdown",
            "metadata": {},
            "source": [
                "## Data Quality Assessment"
            ]
        },
        {
            "cell_type": "code",
            "execution_count": None,
            "metadata": {},
            "source": [
                "# Data quality metrics\n",
                "quality_metrics = {\n",
                "    'total_products': len(df),\n",
                "    'products_with_prices': len(df[df['price'] > 0]),\n",
                "    'price_coverage': len(df[df['price'] > 0]) / len(df) * 100,\n",
                "    'products_with_specs': len(df[df['specifications'].apply(lambda x: len(x) > 0 if isinstance(x, dict) else False)]),\n",
                "    'spec_coverage': len(df[df['specifications'].apply(lambda x: len(x) > 0 if isinstance(x, dict) else False)]) / len(df) * 100,\n",
                "    'products_with_compatibility': len(df[df['compatibility'].apply(lambda x: len(x) > 0 if isinstance(x, list) else False)]),\n",
                "    'compatibility_coverage': len(df[df['compatibility'].apply(lambda x: len(x) > 0 if isinstance(x, list) else False)]) / len(df) * 100\n",
                "}\n",
                "\n",
                "print(\"=== Data Quality Report ===\")\n",
                "for metric, value in quality_metrics.items():\n",
                "    if 'coverage' in metric:\n",
                "        print(f\"{metric}: {value:.1f}%\")\n",
                "    else:\n",
                "        print(f\"{metric}: {value}\")"
            ]
        },
        {
            "cell_type": "markdown",
            "metadata": {},
            "source": [
                "## Recommendations for Model Training"
            ]
        },
        {
            "cell_type": "code",
            "execution_count": None,
            "metadata": {},
            "source": [
                "print(\"=== Recommendations for ML Model Training ===\")\n",
                "print(\"\\n1. Data Preprocessing:\")\n",
                "print(\"   - Handle missing prices through imputation or separate modeling\")\n",
                "print(\"   - Normalize price distributions (log transformation)\")\n",
                "print(\"   - Create text embeddings for product descriptions\")\n",
                "print(\"   - Encode categorical variables (company, category)\")\n",
                "\n",
                "print(\"\\n2. Feature Engineering:\")\n",
                "print(\"   - Extract technical specifications from text\")\n",
                "print(\"   - Create compatibility feature vectors\")\n",
                "print(\"   - Generate brand reputation scores\")\n",
                "print(\"   - Calculate price-to-feature ratios\")\n",
                "\n",
                "print(\"\\n3. Model Selection:\")\n",
                "print(\"   - Use ensemble methods for price prediction\")\n",
                "print(\"   - Implement collaborative filtering for recommendations\")\n",
                "print(\"   - Consider transformer models for text similarity\")\n",
                "print(\"   - Apply clustering for product grouping\")\n",
                "\n",
                "print(\"\\n4. Validation Strategy:\")\n",
                "print(\"   - Split by company to test generalization\")\n",
                "print(\"   - Use cross-validation within categories\")\n",
                "print(\"   - Validate on realistic BOQ scenarios\")"
            ]
        }
    ],
    "metadata": {
        "kernelspec": {
            "display_name": "Python 3",
            "language": "python",
            "name": "python3"
        },
        "language_info": {
            "codemirror_mode": {
                "name": "ipython",
                "version": 3
            },
            "file_extension": ".py",
            "mimetype": "text/x-python",
            "name": "python",
            "nbconvert_exporter": "python",
            "pygments_lexer": "ipython3",
            "version": "3.8.5"
        }
    },
    "nbformat": 4,
    "nbformat_minor": 4
}
